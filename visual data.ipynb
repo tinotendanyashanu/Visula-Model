{
 "cells": [
  {
   "cell_type": "code",
   "execution_count": 9,
   "id": "d49d3dc7",
   "metadata": {
    "scrolled": false
   },
   "outputs": [],
   "source": [
    "import pandas as pd \n",
    "from sklearn.tree import DecisionTreeClassifier\n",
    "from sklearn import tree\n",
    "\n",
    "Data = pd.read_csv('music.csv')\n",
    "\n",
    "X= Data.drop(columns=['genre'])\n",
    "\n",
    "Y=Data['genre']\n",
    "model = DecisionTreeClassifier()\n",
    "model.fit(X,Y)\n",
    "\n",
    "tree.export_graphviz(model, out_file='music.dot',\n",
    "                    feature_names=['age', 'gender'],\n",
    "                    class_names=sorted(Y.unique()),\n",
    "                     label='all',\n",
    "                     rounded=True,\n",
    "                     filled=True)"
   ]
  }
 ],
 "metadata": {
  "kernelspec": {
   "display_name": "Python 3 (ipykernel)",
   "language": "python",
   "name": "python3"
  },
  "language_info": {
   "codemirror_mode": {
    "name": "ipython",
    "version": 3
   },
   "file_extension": ".py",
   "mimetype": "text/x-python",
   "name": "python",
   "nbconvert_exporter": "python",
   "pygments_lexer": "ipython3",
   "version": "3.9.13"
  }
 },
 "nbformat": 4,
 "nbformat_minor": 5
}
